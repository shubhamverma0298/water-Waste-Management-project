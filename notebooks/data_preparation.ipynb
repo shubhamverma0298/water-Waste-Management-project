{
 "cells": [
  {
   "cell_type": "code",
   "execution_count": 2,
   "id": "c4140e11",
   "metadata": {},
   "outputs": [],
   "source": [
    "import pandas as pd\n",
    "import numpy as np \n",
    "import matplotlib.pyplot as plt \n",
    "\n",
    "import warnings\n",
    "warnings.filterwarnings(\"ignore\")"
   ]
  },
  {
   "cell_type": "code",
   "execution_count": 7,
   "id": "63a0110b",
   "metadata": {},
   "outputs": [
    {
     "data": {
      "text/html": [
       "<div>\n",
       "<style scoped>\n",
       "    .dataframe tbody tr th:only-of-type {\n",
       "        vertical-align: middle;\n",
       "    }\n",
       "\n",
       "    .dataframe tbody tr th {\n",
       "        vertical-align: top;\n",
       "    }\n",
       "\n",
       "    .dataframe thead th {\n",
       "        text-align: right;\n",
       "    }\n",
       "</style>\n",
       "<table border=\"1\" class=\"dataframe\">\n",
       "  <thead>\n",
       "    <tr style=\"text-align: right;\">\n",
       "      <th></th>\n",
       "      <th>City/District</th>\n",
       "      <th>Waste Type</th>\n",
       "      <th>Waste Generated (Tons/Day)</th>\n",
       "      <th>Recycling Rate (%)</th>\n",
       "      <th>Population Density (People/km²)</th>\n",
       "      <th>Municipal Efficiency Score (1-10)</th>\n",
       "      <th>Disposal Method</th>\n",
       "      <th>Cost of Waste Management (₹/Ton)</th>\n",
       "      <th>Awareness Campaigns Count</th>\n",
       "      <th>Landfill Name</th>\n",
       "      <th>Landfill Location (Lat, Long)</th>\n",
       "      <th>Landfill Capacity (Tons)</th>\n",
       "      <th>Year</th>\n",
       "    </tr>\n",
       "  </thead>\n",
       "  <tbody>\n",
       "    <tr>\n",
       "      <th>0</th>\n",
       "      <td>Mumbai</td>\n",
       "      <td>Plastic</td>\n",
       "      <td>6610</td>\n",
       "      <td>68</td>\n",
       "      <td>11191</td>\n",
       "      <td>9</td>\n",
       "      <td>Composting</td>\n",
       "      <td>3056</td>\n",
       "      <td>14</td>\n",
       "      <td>Mumbai Landfill</td>\n",
       "      <td>22.4265, 77.4931</td>\n",
       "      <td>45575</td>\n",
       "      <td>2019</td>\n",
       "    </tr>\n",
       "    <tr>\n",
       "      <th>1</th>\n",
       "      <td>Mumbai</td>\n",
       "      <td>Organic</td>\n",
       "      <td>1181</td>\n",
       "      <td>56</td>\n",
       "      <td>11191</td>\n",
       "      <td>5</td>\n",
       "      <td>Composting</td>\n",
       "      <td>2778</td>\n",
       "      <td>12</td>\n",
       "      <td>Mumbai Landfill</td>\n",
       "      <td>22.4265, 77.4931</td>\n",
       "      <td>45575</td>\n",
       "      <td>2019</td>\n",
       "    </tr>\n",
       "    <tr>\n",
       "      <th>2</th>\n",
       "      <td>Mumbai</td>\n",
       "      <td>E-Waste</td>\n",
       "      <td>8162</td>\n",
       "      <td>53</td>\n",
       "      <td>11191</td>\n",
       "      <td>8</td>\n",
       "      <td>Incineration</td>\n",
       "      <td>3390</td>\n",
       "      <td>13</td>\n",
       "      <td>Mumbai Landfill</td>\n",
       "      <td>22.4265, 77.4931</td>\n",
       "      <td>45575</td>\n",
       "      <td>2019</td>\n",
       "    </tr>\n",
       "    <tr>\n",
       "      <th>3</th>\n",
       "      <td>Mumbai</td>\n",
       "      <td>Construction</td>\n",
       "      <td>8929</td>\n",
       "      <td>56</td>\n",
       "      <td>11191</td>\n",
       "      <td>5</td>\n",
       "      <td>Landfill</td>\n",
       "      <td>1498</td>\n",
       "      <td>14</td>\n",
       "      <td>Mumbai Landfill</td>\n",
       "      <td>22.4265, 77.4931</td>\n",
       "      <td>45575</td>\n",
       "      <td>2019</td>\n",
       "    </tr>\n",
       "    <tr>\n",
       "      <th>4</th>\n",
       "      <td>Mumbai</td>\n",
       "      <td>Hazardous</td>\n",
       "      <td>5032</td>\n",
       "      <td>44</td>\n",
       "      <td>11191</td>\n",
       "      <td>7</td>\n",
       "      <td>Recycling</td>\n",
       "      <td>2221</td>\n",
       "      <td>16</td>\n",
       "      <td>Mumbai Landfill</td>\n",
       "      <td>22.4265, 77.4931</td>\n",
       "      <td>45575</td>\n",
       "      <td>2019</td>\n",
       "    </tr>\n",
       "    <tr>\n",
       "      <th>...</th>\n",
       "      <td>...</td>\n",
       "      <td>...</td>\n",
       "      <td>...</td>\n",
       "      <td>...</td>\n",
       "      <td>...</td>\n",
       "      <td>...</td>\n",
       "      <td>...</td>\n",
       "      <td>...</td>\n",
       "      <td>...</td>\n",
       "      <td>...</td>\n",
       "      <td>...</td>\n",
       "      <td>...</td>\n",
       "      <td>...</td>\n",
       "    </tr>\n",
       "    <tr>\n",
       "      <th>845</th>\n",
       "      <td>Gwalior</td>\n",
       "      <td>Plastic</td>\n",
       "      <td>6842</td>\n",
       "      <td>42</td>\n",
       "      <td>11280</td>\n",
       "      <td>8</td>\n",
       "      <td>Recycling</td>\n",
       "      <td>3546</td>\n",
       "      <td>15</td>\n",
       "      <td>Gwalior Landfill</td>\n",
       "      <td>10.9566, 91.6565</td>\n",
       "      <td>54460</td>\n",
       "      <td>2023</td>\n",
       "    </tr>\n",
       "    <tr>\n",
       "      <th>846</th>\n",
       "      <td>Gwalior</td>\n",
       "      <td>Organic</td>\n",
       "      <td>5233</td>\n",
       "      <td>38</td>\n",
       "      <td>11280</td>\n",
       "      <td>10</td>\n",
       "      <td>Recycling</td>\n",
       "      <td>1146</td>\n",
       "      <td>5</td>\n",
       "      <td>Gwalior Landfill</td>\n",
       "      <td>10.9566, 91.6565</td>\n",
       "      <td>54460</td>\n",
       "      <td>2023</td>\n",
       "    </tr>\n",
       "    <tr>\n",
       "      <th>847</th>\n",
       "      <td>Gwalior</td>\n",
       "      <td>E-Waste</td>\n",
       "      <td>9903</td>\n",
       "      <td>41</td>\n",
       "      <td>11280</td>\n",
       "      <td>7</td>\n",
       "      <td>Landfill</td>\n",
       "      <td>3260</td>\n",
       "      <td>4</td>\n",
       "      <td>Gwalior Landfill</td>\n",
       "      <td>10.9566, 91.6565</td>\n",
       "      <td>54460</td>\n",
       "      <td>2023</td>\n",
       "    </tr>\n",
       "    <tr>\n",
       "      <th>848</th>\n",
       "      <td>Gwalior</td>\n",
       "      <td>Construction</td>\n",
       "      <td>7540</td>\n",
       "      <td>77</td>\n",
       "      <td>11280</td>\n",
       "      <td>6</td>\n",
       "      <td>Composting</td>\n",
       "      <td>4220</td>\n",
       "      <td>7</td>\n",
       "      <td>Gwalior Landfill</td>\n",
       "      <td>10.9566, 91.6565</td>\n",
       "      <td>54460</td>\n",
       "      <td>2023</td>\n",
       "    </tr>\n",
       "    <tr>\n",
       "      <th>849</th>\n",
       "      <td>Gwalior</td>\n",
       "      <td>Hazardous</td>\n",
       "      <td>2480</td>\n",
       "      <td>58</td>\n",
       "      <td>11280</td>\n",
       "      <td>6</td>\n",
       "      <td>Composting</td>\n",
       "      <td>1081</td>\n",
       "      <td>19</td>\n",
       "      <td>Gwalior Landfill</td>\n",
       "      <td>10.9566, 91.6565</td>\n",
       "      <td>54460</td>\n",
       "      <td>2023</td>\n",
       "    </tr>\n",
       "  </tbody>\n",
       "</table>\n",
       "<p>850 rows × 13 columns</p>\n",
       "</div>"
      ],
      "text/plain": [
       "    City/District    Waste Type  Waste Generated (Tons/Day)  \\\n",
       "0          Mumbai       Plastic                        6610   \n",
       "1          Mumbai       Organic                        1181   \n",
       "2          Mumbai       E-Waste                        8162   \n",
       "3          Mumbai  Construction                        8929   \n",
       "4          Mumbai     Hazardous                        5032   \n",
       "..            ...           ...                         ...   \n",
       "845       Gwalior       Plastic                        6842   \n",
       "846       Gwalior       Organic                        5233   \n",
       "847       Gwalior       E-Waste                        9903   \n",
       "848       Gwalior  Construction                        7540   \n",
       "849       Gwalior     Hazardous                        2480   \n",
       "\n",
       "     Recycling Rate (%)  Population Density (People/km²)  \\\n",
       "0                    68                            11191   \n",
       "1                    56                            11191   \n",
       "2                    53                            11191   \n",
       "3                    56                            11191   \n",
       "4                    44                            11191   \n",
       "..                  ...                              ...   \n",
       "845                  42                            11280   \n",
       "846                  38                            11280   \n",
       "847                  41                            11280   \n",
       "848                  77                            11280   \n",
       "849                  58                            11280   \n",
       "\n",
       "     Municipal Efficiency Score (1-10) Disposal Method  \\\n",
       "0                                    9      Composting   \n",
       "1                                    5      Composting   \n",
       "2                                    8    Incineration   \n",
       "3                                    5        Landfill   \n",
       "4                                    7       Recycling   \n",
       "..                                 ...             ...   \n",
       "845                                  8       Recycling   \n",
       "846                                 10       Recycling   \n",
       "847                                  7        Landfill   \n",
       "848                                  6      Composting   \n",
       "849                                  6      Composting   \n",
       "\n",
       "     Cost of Waste Management (₹/Ton)  Awareness Campaigns Count  \\\n",
       "0                                3056                         14   \n",
       "1                                2778                         12   \n",
       "2                                3390                         13   \n",
       "3                                1498                         14   \n",
       "4                                2221                         16   \n",
       "..                                ...                        ...   \n",
       "845                              3546                         15   \n",
       "846                              1146                          5   \n",
       "847                              3260                          4   \n",
       "848                              4220                          7   \n",
       "849                              1081                         19   \n",
       "\n",
       "        Landfill Name Landfill Location (Lat, Long)  Landfill Capacity (Tons)  \\\n",
       "0     Mumbai Landfill              22.4265, 77.4931                     45575   \n",
       "1     Mumbai Landfill              22.4265, 77.4931                     45575   \n",
       "2     Mumbai Landfill              22.4265, 77.4931                     45575   \n",
       "3     Mumbai Landfill              22.4265, 77.4931                     45575   \n",
       "4     Mumbai Landfill              22.4265, 77.4931                     45575   \n",
       "..                ...                           ...                       ...   \n",
       "845  Gwalior Landfill              10.9566, 91.6565                     54460   \n",
       "846  Gwalior Landfill              10.9566, 91.6565                     54460   \n",
       "847  Gwalior Landfill              10.9566, 91.6565                     54460   \n",
       "848  Gwalior Landfill              10.9566, 91.6565                     54460   \n",
       "849  Gwalior Landfill              10.9566, 91.6565                     54460   \n",
       "\n",
       "     Year  \n",
       "0    2019  \n",
       "1    2019  \n",
       "2    2019  \n",
       "3    2019  \n",
       "4    2019  \n",
       "..    ...  \n",
       "845  2023  \n",
       "846  2023  \n",
       "847  2023  \n",
       "848  2023  \n",
       "849  2023  \n",
       "\n",
       "[850 rows x 13 columns]"
      ]
     },
     "execution_count": 7,
     "metadata": {},
     "output_type": "execute_result"
    }
   ],
   "source": [
    "df= pd.read_csv('dataset.csv')\n",
    "df"
   ]
  },
  {
   "cell_type": "code",
   "execution_count": 6,
   "id": "f2da2af8",
   "metadata": {},
   "outputs": [
    {
     "name": "stdout",
     "output_type": "stream",
     "text": [
      "<class 'pandas.core.frame.DataFrame'>\n",
      "RangeIndex: 850 entries, 0 to 849\n",
      "Data columns (total 13 columns):\n",
      " #   Column                             Non-Null Count  Dtype \n",
      "---  ------                             --------------  ----- \n",
      " 0   City/District                      850 non-null    object\n",
      " 1   Waste Type                         850 non-null    object\n",
      " 2   Waste Generated (Tons/Day)         850 non-null    int64 \n",
      " 3   Recycling Rate (%)                 850 non-null    int64 \n",
      " 4   Population Density (People/km²)    850 non-null    int64 \n",
      " 5   Municipal Efficiency Score (1-10)  850 non-null    int64 \n",
      " 6   Disposal Method                    850 non-null    object\n",
      " 7   Cost of Waste Management (₹/Ton)   850 non-null    int64 \n",
      " 8   Awareness Campaigns Count          850 non-null    int64 \n",
      " 9   Landfill Name                      850 non-null    object\n",
      " 10  Landfill Location (Lat, Long)      850 non-null    object\n",
      " 11  Landfill Capacity (Tons)           850 non-null    int64 \n",
      " 12  Year                               850 non-null    int64 \n",
      "dtypes: int64(8), object(5)\n",
      "memory usage: 86.5+ KB\n"
     ]
    }
   ],
   "source": [
    "df.info()"
   ]
  },
  {
   "cell_type": "code",
   "execution_count": 7,
   "id": "f65d3cae",
   "metadata": {},
   "outputs": [
    {
     "data": {
      "text/plain": [
       "City/District                        0\n",
       "Waste Type                           0\n",
       "Waste Generated (Tons/Day)           0\n",
       "Recycling Rate (%)                   0\n",
       "Population Density (People/km²)      0\n",
       "Municipal Efficiency Score (1-10)    0\n",
       "Disposal Method                      0\n",
       "Cost of Waste Management (₹/Ton)     0\n",
       "Awareness Campaigns Count            0\n",
       "Landfill Name                        0\n",
       "Landfill Location (Lat, Long)        0\n",
       "Landfill Capacity (Tons)             0\n",
       "Year                                 0\n",
       "dtype: int64"
      ]
     },
     "execution_count": 7,
     "metadata": {},
     "output_type": "execute_result"
    }
   ],
   "source": [
    "df.isnull().sum()"
   ]
  },
  {
   "cell_type": "markdown",
   "id": "f502cdeb",
   "metadata": {},
   "source": [
    "# from the isnull function we can see that their is no null values in the dataset "
   ]
  },
  {
   "cell_type": "code",
   "execution_count": 8,
   "id": "41ce777a",
   "metadata": {},
   "outputs": [
    {
     "data": {
      "text/plain": [
       "array(['Mumbai', 'Delhi', 'Bengaluru', 'Chennai', 'Kolkata', 'Hyderabad',\n",
       "       'Pune', 'Ahmedabad', 'Jaipur', 'Lucknow', 'Surat', 'Kanpur',\n",
       "       'Nagpur', 'Patna', 'Bhopal', 'Thiruvananthapuram', 'Indore',\n",
       "       'Vadodara', 'Guwahati', 'Coimbatore', 'Ranchi', 'Amritsar',\n",
       "       'Jodhpur', 'Varanasi', 'Ludhiana', 'Agra', 'Meerut', 'Nashik',\n",
       "       'Rajkot', 'Madurai', 'Jabalpur', 'Allahabad', 'Visakhapatnam',\n",
       "       'Gwalior'], dtype=object)"
      ]
     },
     "execution_count": 8,
     "metadata": {},
     "output_type": "execute_result"
    }
   ],
   "source": [
    "df['City/District'].unique()"
   ]
  },
  {
   "cell_type": "code",
   "execution_count": 9,
   "id": "fcb2a859",
   "metadata": {},
   "outputs": [],
   "source": [
    "df['city']=df['City/District'].map({'Mumbai':1,'Delhi':2,'Bengaluru':3,'Chennai':4,'Kolkata':5,'Hyderabad':6,'Pune':7,'Ahmedabad':8,'Jaipur':9,'Lucknow':10,\n",
    "                                    'Surat':11,'Kanpur':12,'Nagpur':13,'Patna':14,'Bhopal':15,'Thiruvananthapuram':16,'Indore':17,'Vadodara':18,'Guwahati':19,\n",
    "                                    'Coimbatore':20,'Ranchi':21,'Amritsar':22,'Jodhpur':23,'Varanasi':24,'Ludhiana':25,'Agra':26,'Meerut':27,'Nashik':28,'Rajkot':29,\n",
    "                                    'Madurai':30,'Jabalpur':31,'Allahabad':32,'Visakhapatnam':33,'Gwalior':34})"
   ]
  },
  {
   "cell_type": "code",
   "execution_count": 10,
   "id": "827cb7d2",
   "metadata": {},
   "outputs": [
    {
     "data": {
      "text/plain": [
       "array([ 1,  2,  3,  4,  5,  6,  7,  8,  9, 10, 11, 12, 13, 14, 15, 16, 17,\n",
       "       18, 19, 20, 21, 22, 23, 24, 25, 26, 27, 28, 29, 30, 31, 32, 33, 34])"
      ]
     },
     "execution_count": 10,
     "metadata": {},
     "output_type": "execute_result"
    }
   ],
   "source": [
    "df['city'].unique()"
   ]
  },
  {
   "cell_type": "code",
   "execution_count": 11,
   "id": "ef980995",
   "metadata": {},
   "outputs": [],
   "source": [
    "df=df.drop(\"City/District\",axis=1)"
   ]
  },
  {
   "cell_type": "markdown",
   "id": "d451094f",
   "metadata": {},
   "source": [
    "# converted city/district column as city on the basis of \n",
    "'Mumbai':1,'Delhi':2,'Bengaluru':3,'Chennai':4,'Kolkata':5,'Hyderabad':6,'Pune':7,'Ahmedabad':8,'Jaipur':9,'Lucknow':10,\n",
    "'Surat':11,'Kanpur':12,'Nagpur':13,'Patna':14,'Bhopal':15,'Thiruvananthapuram':16,'Indore':17,'Vadodara':18,'Guwahati':19,\n",
    "'Coimbatore':20,'Ranchi':21,'Amritsar':22,'Jodhpur':23,'Varanasi':24,'Ludhiana':25,'Agra':26,'Meerut':27,'Nashik':28,'Rajkot':29,\n",
    "'Madurai':30,'Jabalpur':31,'Allahabad':32,'Visakhapatnam':33,'Gwalior':34\n",
    "\n",
    "to preform machine learning models "
   ]
  },
  {
   "cell_type": "code",
   "execution_count": 12,
   "id": "df43be9b",
   "metadata": {},
   "outputs": [
    {
     "data": {
      "text/plain": [
       "array(['Plastic', 'Organic', 'E-Waste', 'Construction', 'Hazardous'],\n",
       "      dtype=object)"
      ]
     },
     "execution_count": 12,
     "metadata": {},
     "output_type": "execute_result"
    }
   ],
   "source": [
    "df['Waste Type'].unique()"
   ]
  },
  {
   "cell_type": "code",
   "execution_count": 13,
   "id": "c21326bc",
   "metadata": {},
   "outputs": [],
   "source": [
    "df['Waste Type']=df['Waste Type'].map({'Plastic':1, 'Organic':2, 'E-Waste':3, 'Construction':4, 'Hazardous':5})\n"
   ]
  },
  {
   "cell_type": "markdown",
   "id": "464c8fcb",
   "metadata": {},
   "source": [
    "converted waste type as int 'Plastic':1, 'Organic':2, 'E-Waste':3, 'Construction':4, 'Hazardous':5"
   ]
  },
  {
   "cell_type": "code",
   "execution_count": 14,
   "id": "44e72c6a",
   "metadata": {},
   "outputs": [
    {
     "data": {
      "text/plain": [
       "array(['Composting', 'Incineration', 'Landfill', 'Recycling'],\n",
       "      dtype=object)"
      ]
     },
     "execution_count": 14,
     "metadata": {},
     "output_type": "execute_result"
    }
   ],
   "source": [
    "df['Disposal Method'].unique()"
   ]
  },
  {
   "cell_type": "code",
   "execution_count": 15,
   "id": "eaa8d5c6",
   "metadata": {},
   "outputs": [],
   "source": [
    "df['Disposal Method']=df['Disposal Method'].map({'Composting':1, 'Incineration':2, 'Landfill':3, 'Recycling':4})"
   ]
  },
  {
   "cell_type": "markdown",
   "id": "fe6618f0",
   "metadata": {},
   "source": [
    "converted disposal method as int 'Composting':1, 'Incineration':2, 'Landfill':3, 'Recycling':4"
   ]
  },
  {
   "cell_type": "code",
   "execution_count": 16,
   "id": "426aa563",
   "metadata": {},
   "outputs": [
    {
     "data": {
      "text/plain": [
       "array(['Mumbai Landfill', 'Delhi Landfill', 'Bengaluru Landfill',\n",
       "       'Chennai Landfill', 'Kolkata Landfill', 'Hyderabad Landfill',\n",
       "       'Pune Landfill', 'Ahmedabad Landfill', 'Jaipur Landfill',\n",
       "       'Lucknow Landfill', 'Surat Landfill', 'Kanpur Landfill',\n",
       "       'Nagpur Landfill', 'Patna Landfill', 'Bhopal Landfill',\n",
       "       'Thiruvananthapuram Landfill', 'Indore Landfill',\n",
       "       'Vadodara Landfill', 'Guwahati Landfill', 'Coimbatore Landfill',\n",
       "       'Ranchi Landfill', 'Amritsar Landfill', 'Jodhpur Landfill',\n",
       "       'Varanasi Landfill', 'Ludhiana Landfill', 'Agra Landfill',\n",
       "       'Meerut Landfill', 'Nashik Landfill', 'Rajkot Landfill',\n",
       "       'Madurai Landfill', 'Jabalpur Landfill', 'Allahabad Landfill',\n",
       "       'Visakhapatnam Landfill', 'Gwalior Landfill'], dtype=object)"
      ]
     },
     "execution_count": 16,
     "metadata": {},
     "output_type": "execute_result"
    }
   ],
   "source": [
    "df['Landfill Name'].unique()"
   ]
  },
  {
   "cell_type": "markdown",
   "id": "b0ab53a8",
   "metadata": {},
   "source": [
    "drop landfill name as it is same as the name of the city "
   ]
  },
  {
   "cell_type": "code",
   "execution_count": 17,
   "id": "1dadba1e",
   "metadata": {},
   "outputs": [],
   "source": [
    "df=df.drop('Landfill Name',axis=1)"
   ]
  },
  {
   "cell_type": "code",
   "execution_count": 18,
   "id": "5af03d6d",
   "metadata": {},
   "outputs": [
    {
     "data": {
      "text/plain": [
       "0      22.4265, 77.4931\n",
       "1      22.4265, 77.4931\n",
       "2      22.4265, 77.4931\n",
       "3      22.4265, 77.4931\n",
       "4      22.4265, 77.4931\n",
       "             ...       \n",
       "845    10.9566, 91.6565\n",
       "846    10.9566, 91.6565\n",
       "847    10.9566, 91.6565\n",
       "848    10.9566, 91.6565\n",
       "849    10.9566, 91.6565\n",
       "Name: Landfill Location (Lat, Long), Length: 850, dtype: object"
      ]
     },
     "execution_count": 18,
     "metadata": {},
     "output_type": "execute_result"
    }
   ],
   "source": [
    "df['Landfill Location (Lat, Long)']"
   ]
  },
  {
   "cell_type": "code",
   "execution_count": 19,
   "id": "62914044",
   "metadata": {},
   "outputs": [],
   "source": [
    "df=df.drop('Landfill Location (Lat, Long)',axis=1)"
   ]
  },
  {
   "cell_type": "markdown",
   "id": "d1e4e2c0",
   "metadata": {},
   "source": [
    "we have to drop landfill location because it not usefull in model tranning "
   ]
  },
  {
   "cell_type": "code",
   "execution_count": 20,
   "id": "4a1b2952",
   "metadata": {},
   "outputs": [
    {
     "name": "stdout",
     "output_type": "stream",
     "text": [
      "<class 'pandas.core.frame.DataFrame'>\n",
      "RangeIndex: 850 entries, 0 to 849\n",
      "Data columns (total 11 columns):\n",
      " #   Column                             Non-Null Count  Dtype\n",
      "---  ------                             --------------  -----\n",
      " 0   Waste Type                         850 non-null    int64\n",
      " 1   Waste Generated (Tons/Day)         850 non-null    int64\n",
      " 2   Recycling Rate (%)                 850 non-null    int64\n",
      " 3   Population Density (People/km²)    850 non-null    int64\n",
      " 4   Municipal Efficiency Score (1-10)  850 non-null    int64\n",
      " 5   Disposal Method                    850 non-null    int64\n",
      " 6   Cost of Waste Management (₹/Ton)   850 non-null    int64\n",
      " 7   Awareness Campaigns Count          850 non-null    int64\n",
      " 8   Landfill Capacity (Tons)           850 non-null    int64\n",
      " 9   Year                               850 non-null    int64\n",
      " 10  city                               850 non-null    int64\n",
      "dtypes: int64(11)\n",
      "memory usage: 73.2 KB\n"
     ]
    }
   ],
   "source": [
    "df.info()"
   ]
  },
  {
   "cell_type": "markdown",
   "id": "1eb78322",
   "metadata": {},
   "source": [
    "Now all the collumns are of integer type "
   ]
  },
  {
   "cell_type": "code",
   "execution_count": 22,
   "id": "5d4e69ee",
   "metadata": {},
   "outputs": [
    {
     "data": {
      "text/html": [
       "<div>\n",
       "<style scoped>\n",
       "    .dataframe tbody tr th:only-of-type {\n",
       "        vertical-align: middle;\n",
       "    }\n",
       "\n",
       "    .dataframe tbody tr th {\n",
       "        vertical-align: top;\n",
       "    }\n",
       "\n",
       "    .dataframe thead th {\n",
       "        text-align: right;\n",
       "    }\n",
       "</style>\n",
       "<table border=\"1\" class=\"dataframe\">\n",
       "  <thead>\n",
       "    <tr style=\"text-align: right;\">\n",
       "      <th></th>\n",
       "      <th>Waste Type</th>\n",
       "      <th>Waste Generated (Tons/Day)</th>\n",
       "      <th>Recycling Rate (%)</th>\n",
       "      <th>Population Density (People/km²)</th>\n",
       "      <th>Municipal Efficiency Score (1-10)</th>\n",
       "      <th>Disposal Method</th>\n",
       "      <th>Cost of Waste Management (₹/Ton)</th>\n",
       "      <th>Awareness Campaigns Count</th>\n",
       "      <th>Landfill Capacity (Tons)</th>\n",
       "      <th>Year</th>\n",
       "      <th>city</th>\n",
       "    </tr>\n",
       "  </thead>\n",
       "  <tbody>\n",
       "    <tr>\n",
       "      <th>0</th>\n",
       "      <td>1</td>\n",
       "      <td>6610</td>\n",
       "      <td>68</td>\n",
       "      <td>11191</td>\n",
       "      <td>9</td>\n",
       "      <td>1</td>\n",
       "      <td>3056</td>\n",
       "      <td>14</td>\n",
       "      <td>45575</td>\n",
       "      <td>2019</td>\n",
       "      <td>1</td>\n",
       "    </tr>\n",
       "    <tr>\n",
       "      <th>1</th>\n",
       "      <td>2</td>\n",
       "      <td>1181</td>\n",
       "      <td>56</td>\n",
       "      <td>11191</td>\n",
       "      <td>5</td>\n",
       "      <td>1</td>\n",
       "      <td>2778</td>\n",
       "      <td>12</td>\n",
       "      <td>45575</td>\n",
       "      <td>2019</td>\n",
       "      <td>1</td>\n",
       "    </tr>\n",
       "    <tr>\n",
       "      <th>2</th>\n",
       "      <td>3</td>\n",
       "      <td>8162</td>\n",
       "      <td>53</td>\n",
       "      <td>11191</td>\n",
       "      <td>8</td>\n",
       "      <td>2</td>\n",
       "      <td>3390</td>\n",
       "      <td>13</td>\n",
       "      <td>45575</td>\n",
       "      <td>2019</td>\n",
       "      <td>1</td>\n",
       "    </tr>\n",
       "    <tr>\n",
       "      <th>3</th>\n",
       "      <td>4</td>\n",
       "      <td>8929</td>\n",
       "      <td>56</td>\n",
       "      <td>11191</td>\n",
       "      <td>5</td>\n",
       "      <td>3</td>\n",
       "      <td>1498</td>\n",
       "      <td>14</td>\n",
       "      <td>45575</td>\n",
       "      <td>2019</td>\n",
       "      <td>1</td>\n",
       "    </tr>\n",
       "    <tr>\n",
       "      <th>4</th>\n",
       "      <td>5</td>\n",
       "      <td>5032</td>\n",
       "      <td>44</td>\n",
       "      <td>11191</td>\n",
       "      <td>7</td>\n",
       "      <td>4</td>\n",
       "      <td>2221</td>\n",
       "      <td>16</td>\n",
       "      <td>45575</td>\n",
       "      <td>2019</td>\n",
       "      <td>1</td>\n",
       "    </tr>\n",
       "    <tr>\n",
       "      <th>...</th>\n",
       "      <td>...</td>\n",
       "      <td>...</td>\n",
       "      <td>...</td>\n",
       "      <td>...</td>\n",
       "      <td>...</td>\n",
       "      <td>...</td>\n",
       "      <td>...</td>\n",
       "      <td>...</td>\n",
       "      <td>...</td>\n",
       "      <td>...</td>\n",
       "      <td>...</td>\n",
       "    </tr>\n",
       "    <tr>\n",
       "      <th>845</th>\n",
       "      <td>1</td>\n",
       "      <td>6842</td>\n",
       "      <td>42</td>\n",
       "      <td>11280</td>\n",
       "      <td>8</td>\n",
       "      <td>4</td>\n",
       "      <td>3546</td>\n",
       "      <td>15</td>\n",
       "      <td>54460</td>\n",
       "      <td>2023</td>\n",
       "      <td>34</td>\n",
       "    </tr>\n",
       "    <tr>\n",
       "      <th>846</th>\n",
       "      <td>2</td>\n",
       "      <td>5233</td>\n",
       "      <td>38</td>\n",
       "      <td>11280</td>\n",
       "      <td>10</td>\n",
       "      <td>4</td>\n",
       "      <td>1146</td>\n",
       "      <td>5</td>\n",
       "      <td>54460</td>\n",
       "      <td>2023</td>\n",
       "      <td>34</td>\n",
       "    </tr>\n",
       "    <tr>\n",
       "      <th>847</th>\n",
       "      <td>3</td>\n",
       "      <td>9903</td>\n",
       "      <td>41</td>\n",
       "      <td>11280</td>\n",
       "      <td>7</td>\n",
       "      <td>3</td>\n",
       "      <td>3260</td>\n",
       "      <td>4</td>\n",
       "      <td>54460</td>\n",
       "      <td>2023</td>\n",
       "      <td>34</td>\n",
       "    </tr>\n",
       "    <tr>\n",
       "      <th>848</th>\n",
       "      <td>4</td>\n",
       "      <td>7540</td>\n",
       "      <td>77</td>\n",
       "      <td>11280</td>\n",
       "      <td>6</td>\n",
       "      <td>1</td>\n",
       "      <td>4220</td>\n",
       "      <td>7</td>\n",
       "      <td>54460</td>\n",
       "      <td>2023</td>\n",
       "      <td>34</td>\n",
       "    </tr>\n",
       "    <tr>\n",
       "      <th>849</th>\n",
       "      <td>5</td>\n",
       "      <td>2480</td>\n",
       "      <td>58</td>\n",
       "      <td>11280</td>\n",
       "      <td>6</td>\n",
       "      <td>1</td>\n",
       "      <td>1081</td>\n",
       "      <td>19</td>\n",
       "      <td>54460</td>\n",
       "      <td>2023</td>\n",
       "      <td>34</td>\n",
       "    </tr>\n",
       "  </tbody>\n",
       "</table>\n",
       "<p>850 rows × 11 columns</p>\n",
       "</div>"
      ],
      "text/plain": [
       "     Waste Type  Waste Generated (Tons/Day)  Recycling Rate (%)  \\\n",
       "0             1                        6610                  68   \n",
       "1             2                        1181                  56   \n",
       "2             3                        8162                  53   \n",
       "3             4                        8929                  56   \n",
       "4             5                        5032                  44   \n",
       "..          ...                         ...                 ...   \n",
       "845           1                        6842                  42   \n",
       "846           2                        5233                  38   \n",
       "847           3                        9903                  41   \n",
       "848           4                        7540                  77   \n",
       "849           5                        2480                  58   \n",
       "\n",
       "     Population Density (People/km²)  Municipal Efficiency Score (1-10)  \\\n",
       "0                              11191                                  9   \n",
       "1                              11191                                  5   \n",
       "2                              11191                                  8   \n",
       "3                              11191                                  5   \n",
       "4                              11191                                  7   \n",
       "..                               ...                                ...   \n",
       "845                            11280                                  8   \n",
       "846                            11280                                 10   \n",
       "847                            11280                                  7   \n",
       "848                            11280                                  6   \n",
       "849                            11280                                  6   \n",
       "\n",
       "     Disposal Method  Cost of Waste Management (₹/Ton)  \\\n",
       "0                  1                              3056   \n",
       "1                  1                              2778   \n",
       "2                  2                              3390   \n",
       "3                  3                              1498   \n",
       "4                  4                              2221   \n",
       "..               ...                               ...   \n",
       "845                4                              3546   \n",
       "846                4                              1146   \n",
       "847                3                              3260   \n",
       "848                1                              4220   \n",
       "849                1                              1081   \n",
       "\n",
       "     Awareness Campaigns Count  Landfill Capacity (Tons)  Year  city  \n",
       "0                           14                     45575  2019     1  \n",
       "1                           12                     45575  2019     1  \n",
       "2                           13                     45575  2019     1  \n",
       "3                           14                     45575  2019     1  \n",
       "4                           16                     45575  2019     1  \n",
       "..                         ...                       ...   ...   ...  \n",
       "845                         15                     54460  2023    34  \n",
       "846                          5                     54460  2023    34  \n",
       "847                          4                     54460  2023    34  \n",
       "848                          7                     54460  2023    34  \n",
       "849                         19                     54460  2023    34  \n",
       "\n",
       "[850 rows x 11 columns]"
      ]
     },
     "execution_count": 22,
     "metadata": {},
     "output_type": "execute_result"
    }
   ],
   "source": [
    "df"
   ]
  },
  {
   "cell_type": "code",
   "execution_count": 23,
   "id": "dd9327ca",
   "metadata": {},
   "outputs": [
    {
     "name": "stdout",
     "output_type": "stream",
     "text": [
      "DataFrame saved as processed_dataset.csv\n"
     ]
    }
   ],
   "source": [
    "df.to_csv('processed_dataset.csv', index=False)\n",
    "print(\"DataFrame saved as processed_dataset.csv\")"
   ]
  }
 ],
 "metadata": {
  "kernelspec": {
   "display_name": "Python 3",
   "language": "python",
   "name": "python3"
  },
  "language_info": {
   "codemirror_mode": {
    "name": "ipython",
    "version": 3
   },
   "file_extension": ".py",
   "mimetype": "text/x-python",
   "name": "python",
   "nbconvert_exporter": "python",
   "pygments_lexer": "ipython3",
   "version": "3.12.4"
  }
 },
 "nbformat": 4,
 "nbformat_minor": 5
}
